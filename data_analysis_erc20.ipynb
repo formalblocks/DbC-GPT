{
 "cells": [
  {
   "cell_type": "code",
   "execution_count": 41,
   "metadata": {},
   "outputs": [],
   "source": [
    "import pandas as pd\n",
    "import matplotlib.pyplot as plt\n",
    "import seaborn as sns\n",
    "import numpy as np\n",
    "\n",
    "# Load the CSV data into a DataFrame\n",
    "# data_labels = ['erc20_[]', 'erc20_[20]', 'erc20_[721_1155]', 'erc_20_[721]', 'erc_20_[1155]']\n",
    "df = pd.read_csv('erc20_[].csv')\n",
    "df2 = pd.read_csv('erc20_[20].csv')\n",
    "df3 = pd.read_csv('erc20_[721_1155].csv')\n",
    "df4 = pd.read_csv('erc20_[721].csv')\n",
    "df5 = pd.read_csv('erc20_[1155].csv')\n",
    "df6 = pd.read_csv('erc20_[20_721].csv')\n",
    "\n",
    "methods = {\n",
    "        'totalSupply': [],\n",
    "        'balanceOf': [],\n",
    "        'allowance': [],\n",
    "        'approve': [],\n",
    "        'transfer': [],\n",
    "        'transferFrom': []\n",
    "    }\n"
   ]
  },
  {
   "cell_type": "code",
   "execution_count": 46,
   "metadata": {},
   "outputs": [
    {
     "name": "stdout",
     "output_type": "stream",
     "text": [
      "\n",
      "Summary Statistics:\n",
      "            run  time_taken  iterations\n",
      "count  10.00000   10.000000   10.000000\n",
      "mean    5.50000  125.162748    8.600000\n",
      "std     3.02765   63.705825    2.988868\n",
      "min     1.00000   74.752216    2.000000\n",
      "25%     3.25000   85.873419   10.000000\n",
      "50%     5.50000   98.785131   10.000000\n",
      "75%     7.75000  120.882026   10.000000\n",
      "max    10.00000  260.284399   10.000000\n"
     ]
    }
   ],
   "source": [
    "# Summary statistics\n",
    "print(\"\\nSummary Statistics:\")\n",
    "print(df.describe())"
   ]
  },
  {
   "cell_type": "code",
   "execution_count": 47,
   "metadata": {},
   "outputs": [
    {
     "name": "stdout",
     "output_type": "stream",
     "text": [
      "\n",
      "Count of Verified vs. Not Verified:\n",
      "verified\n",
      "False    8\n",
      "True     2\n",
      "Name: count, dtype: int64\n"
     ]
    }
   ],
   "source": [
    "# Count of verified vs. not verified\n",
    "print(\"\\nCount of Verified vs. Not Verified:\")\n",
    "print(df['verified'].value_counts())"
   ]
  },
  {
   "cell_type": "code",
   "execution_count": 48,
   "metadata": {},
   "outputs": [
    {
     "name": "stdout",
     "output_type": "stream",
     "text": [
      "\n",
      "Average Time Taken for Verified and Not Verified Runs (minutes:seconds):\n",
      "verified\n",
      "False    130.319954\n",
      "True     104.533921\n",
      "Name: time_taken, dtype: float64\n"
     ]
    }
   ],
   "source": [
    "# Average time taken for verified and not verified runs\n",
    "print(\"\\nAverage Time Taken for Verified and Not Verified Runs (minutes:seconds):\")\n",
    "print(df.groupby('verified')['time_taken'].mean())"
   ]
  },
  {
   "cell_type": "code",
   "execution_count": 49,
   "metadata": {},
   "outputs": [
    {
     "name": "stdout",
     "output_type": "stream",
     "text": [
      "\n",
      "Average Iterations for Verified and Not Verified Runs:\n",
      "verified\n",
      "False    10.0\n",
      "True      3.0\n",
      "Name: iterations, dtype: float64\n"
     ]
    }
   ],
   "source": [
    "# Number of iterations for verified and not verified runs\n",
    "print(\"\\nAverage Iterations for Verified and Not Verified Runs:\")\n",
    "print(df.groupby('verified')['iterations'].mean().round())"
   ]
  },
  {
   "cell_type": "code",
   "execution_count": 42,
   "metadata": {},
   "outputs": [
    {
     "name": "stdout",
     "output_type": "stream",
     "text": [
      "[{'totalSupply': 1, 'balanceOf': 1, 'allowance': 1, 'approve': 2, 'transfer': 2, 'transferFrom': 2, 'increaseAllowance': 1, 'decreaseAllowance': 1, '[implicit_constructor]': 1}, {'totalSupply': 1, 'balanceOf': 1, 'allowance': 1, 'approve': 1, 'increaseAllowance': 1, 'decreaseAllowance': 1, '[implicit_constructor]': 1}, {'totalSupply': 1, 'balanceOf': 1, 'allowance': 1, 'approve': 1, 'transfer': 4, 'transferFrom': 2, 'increaseAllowance': 1, 'decreaseAllowance': 1, '[implicit_constructor]': 1}, {'totalSupply': 1, 'balanceOf': 1, 'allowance': 1, 'increaseAllowance': 1, 'decreaseAllowance': 1, '[implicit_constructor]': 1, 'transferFrom': 2}, {'totalSupply': 1, 'balanceOf': 1, 'allowance': 1, 'approve': 1, 'increaseAllowance': 1, 'decreaseAllowance': 1, '[implicit_constructor]': 1}, {'totalSupply': 1, 'balanceOf': 1, 'allowance': 1, 'increaseAllowance': 1, 'decreaseAllowance': 1, '[implicit_constructor]': 1, 'transferFrom': 2}, {'totalSupply': 1, 'balanceOf': 1, 'allowance': 1, 'approve': 1, 'increaseAllowance': 1, 'decreaseAllowance': 1, '[implicit_constructor]': 1}, {'totalSupply': 1, 'balanceOf': 1, 'allowance': 1, 'increaseAllowance': 1, 'decreaseAllowance': 1, '[implicit_constructor]': 1, 'approve': 2}, {'totalSupply': 4, 'balanceOf': 4, 'allowance': 4, 'approve': 4, 'increaseAllowance': 4, 'decreaseAllowance': 4, '[implicit_constructor]': 4}, {'totalSupply': 1, 'balanceOf': 1, 'allowance': 1, 'increaseAllowance': 1, 'decreaseAllowance': 1, '[implicit_constructor]': 1, 'transferFrom': 2}]\n",
      "[{'totalSupply': 0, 'balanceOf': 0, 'allowance': 0, 'approve': 0, 'transfer': 0, 'transferFrom': 0}, {'totalSupply': 0, 'balanceOf': 0, 'allowance': 0, 'approve': 0, 'transfer': 0, 'transferFrom': 0}, {'totalSupply': 0, 'balanceOf': 0, 'allowance': 0, 'approve': 0, 'transfer': 0, 'transferFrom': 0}, {'totalSupply': 0, 'balanceOf': 0, 'allowance': 0, 'approve': 0, 'transfer': 0, 'transferFrom': 0}, {'totalSupply': 0, 'balanceOf': 0, 'allowance': 0, 'approve': 0, 'transfer': 0, 'transferFrom': 0}, {'totalSupply': 0, 'balanceOf': 0, 'allowance': 0, 'approve': 0, 'transfer': 0, 'transferFrom': 0}, {'totalSupply': 0, 'balanceOf': 0, 'allowance': 0, 'approve': 0, 'transfer': 0, 'transferFrom': 0}, {'totalSupply': 0, 'balanceOf': 0, 'allowance': 0, 'approve': 0, 'transfer': 0, 'transferFrom': 0}, {'totalSupply': 1, 'balanceOf': 1, 'allowance': 1, 'approve': 1, 'transfer': 3, 'transferFrom': 1, 'increaseAllowance': 1, 'decreaseAllowance': 1, '[implicit_constructor]': 1}, {'totalSupply': 0, 'balanceOf': 0, 'allowance': 0, 'approve': 0, 'transfer': 0, 'transferFrom': 0}]\n"
     ]
    }
   ],
   "source": [
    "def parse_status_logs(log):\n",
    "    parsed_logs = {}\n",
    "    if log:\n",
    "        try:\n",
    "            # Manually split the logs and process each entry\n",
    "            log_list = log.strip('[]').split('\", \"')\n",
    "            for entry in log_list:\n",
    "                interaction_logs = entry.split('\\\\n')\n",
    "                interaction_number = None\n",
    "                for interaction_log in interaction_logs:\n",
    "                    if 'Iteraction:' in interaction_log:\n",
    "                        interaction_number = int(interaction_log.split(': ')[1])\n",
    "                    if 'OK' in interaction_log or 'ERROR' in interaction_log:\n",
    "                        parts = interaction_log.split(': ')\n",
    "                        method = parts[0].split('::')[1]\n",
    "                        status = parts[1].strip()\n",
    "                        if interaction_number is not None:\n",
    "                            if status == 'OK':\n",
    "                                parsed_logs[method] = parsed_logs.get(method, interaction_number)\n",
    "        except Exception as e:\n",
    "            print(f\"Error parsing log: {e}\")\n",
    "    return parsed_logs\n",
    "\n",
    "def merge(rounds_logs, verified, interaction):\n",
    "    result = []\n",
    "    for idx, round_dict in enumerate(rounds_logs):\n",
    "        if not verified[idx]:\n",
    "            result.append(round_dict)\n",
    "        else:\n",
    "            verified_dict = {}\n",
    "            for method_name in methods.keys():\n",
    "                verified_dict[method_name] = interaction[idx]\n",
    "\n",
    "            merged_dict = verified_dict.copy()\n",
    "            merged_dict.update(round_dict)\n",
    "            result.append(merged_dict)\n",
    "    return result\n",
    "\n",
    "\n",
    "# Apply the parse_status_logs function to each row's status column\n",
    "df['parsed_status'] = df['status'].apply(parse_status_logs)\n",
    "data1 = merge(df['parsed_status'].tolist(), df['verified'].to_list(), df['iterations'].to_list())\n",
    "\n",
    "df2['parsed_status'] = df2['status'].apply(parse_status_logs)\n",
    "data2 = merge(df2['parsed_status'].tolist(), df2['verified'].to_list(), df2['iterations'].to_list())\n",
    "df3['parsed_status'] = df3['status'].apply(parse_status_logs)\n",
    "data3 = merge(df3['parsed_status'].tolist(), df3['verified'].to_list(), df3['iterations'].to_list())\n",
    "df4['parsed_status'] = df4['status'].apply(parse_status_logs)\n",
    "data4 = merge(df4['parsed_status'].tolist(), df4['verified'].to_list(), df4['iterations'].to_list())\n",
    "df5['parsed_status'] = df5['status'].apply(parse_status_logs)\n",
    "data5 = merge(df5['parsed_status'].tolist(), df5['verified'].to_list(), df5['iterations'].to_list())\n",
    "df6['parsed_status'] = df6['status'].apply(parse_status_logs)\n",
    "data6 = merge(df6['parsed_status'].tolist(), df6['verified'].to_list(), df6['iterations'].to_list())\n",
    "\n",
    "# print(\"\\nParsed Status:\")\n",
    "# print(data)\n",
    "print(data1)\n",
    "print(data2)\n"
   ]
  },
  {
   "cell_type": "code",
   "execution_count": 54,
   "metadata": {},
   "outputs": [
    {
     "data": {
      "image/png": "[encoded data removed]",
      "text/plain": [
       "<Figure size 400x400 with 6 Axes>"
      ]
     },
     "metadata": {},
     "output_type": "display_data"
    }
   ],
   "source": [
    "# Function to extract interaction counts for each method\n",
    "def extract_counts(data, plus=0):\n",
    "    methods_local = {}\n",
    "    for entry in data:\n",
    "        for method in methods.keys():\n",
    "            if method in entry:\n",
    "                iteration_list = methods_local.get(method, [])\n",
    "                iteration_list.append(entry[method] + plus)\n",
    "                methods_local[method] = iteration_list\n",
    "    return methods_local\n",
    "\n",
    "# Extract counts for each configuration\n",
    "methods1 = extract_counts(data1)\n",
    "methods2 = extract_counts(data2)\n",
    "methods3 = extract_counts(data3)\n",
    "methods4 = extract_counts(data4)\n",
    "methods5 = extract_counts(data5)\n",
    "methods6 = extract_counts(data6)\n",
    "\n",
    "# Plot KDE plots with different colors for each configuration\n",
    "fig, axs = plt.subplots(len(methods1), figsize=(4, 4), sharex=True, constrained_layout=True)\n",
    "\n",
    "# Function to plot KDE or fixed artificial distribution\n",
    "def plot_kde_or_fixed_distribution(data, ax, color, label):\n",
    "    unique_vals = np.unique(data)\n",
    "    if len(unique_vals) == 1:\n",
    "        mean_val = unique_vals[0]\n",
    "        # Create a fixed artificial distribution centered at the mean value\n",
    "        fixed_data = np.linspace(mean_val - 0.1, mean_val + 0.1, 10)\n",
    "        sns.kdeplot(fixed_data, ax=ax, bw_adjust=0.5, color=color, label=label)\n",
    "    else:\n",
    "        sns.kdeplot(data, ax=ax, bw_adjust=0.5, color=color, label=label)\n",
    "\n",
    "colors = ['blue', 'green', 'red', 'yellow', 'pink', 'cyan']\n",
    "data_labels = ['ε', '[20]', '[721,1155]', '[721]', '[1155]', '[20,721]']\n",
    "all_methods = list(methods.keys())\n",
    "\n",
    "for i, method in enumerate(all_methods):\n",
    "    plot_kde_or_fixed_distribution(np.array(methods1[method]), ax=axs[i], color=colors[0], label=data_labels[0] if i == 0 else \"\")\n",
    "    plot_kde_or_fixed_distribution(np.array(methods2[method]), ax=axs[i], color=colors[1], label=data_labels[1] if i == 0 else \"\")\n",
    "    plot_kde_or_fixed_distribution(np.array(methods3[method]), ax=axs[i], color=colors[2], label=data_labels[2] if i == 0 else \"\")\n",
    "    plot_kde_or_fixed_distribution(np.array(methods4[method]), ax=axs[i], color=colors[3], label=data_labels[3] if i == 0 else \"\")\n",
    "    plot_kde_or_fixed_distribution(np.array(methods5[method]), ax=axs[i], color=colors[4], label=data_labels[4] if i == 0 else \"\")\n",
    "    plot_kde_or_fixed_distribution(np.array(methods6[method]), ax=axs[i], color=colors[5], label=data_labels[5] if i == 0 else \"\")\n",
    "    \n",
    "    # axs[i].set_ylabel(method, fontsize=6)\n",
    "    axs[i].set_ylabel('', fontsize=6)\n",
    "    axs[i].annotate(method, xy=(0.5, 0.95), xycoords='axes fraction', ha='center', va='top', fontsize=10)\n",
    "    axs[i].set_xlim(0, 10)\n",
    "    axs[i].set_xticks(range(11))\n",
    "    # if i == 0:\n",
    "    #     axs[i].legend()\n",
    "# Create a single legend for the entire figure\n",
    "handles, labels = axs[0].get_legend_handles_labels()\n",
    "fig.legend(handles, labels, loc='upper right', fontsize=8)\n",
    "\n",
    "# Set x-label for the bottom subplot\n",
    "axs[-1].set_xlabel('Interaction Count')\n",
    "\n",
    "plt.show()"
   ]
  },
  {
   "cell_type": "code",
   "execution_count": 10,
   "metadata": {},
   "outputs": [
    {
     "ename": "AttributeError",
     "evalue": "'int' object has no attribute 'items'",
     "output_type": "error",
     "traceback": [
      "\u001b[0;31m---------------------------------------------------------------------------\u001b[0m",
      "\u001b[0;31mAttributeError\u001b[0m                            Traceback (most recent call last)",
      "Cell \u001b[0;32mIn[10], line 9\u001b[0m\n\u001b[1;32m      7\u001b[0m \u001b[38;5;28;01mif\u001b[39;00m interaction \u001b[38;5;129;01mnot\u001b[39;00m \u001b[38;5;129;01min\u001b[39;00m plot_data:\n\u001b[1;32m      8\u001b[0m     plot_data[interaction] \u001b[38;5;241m=\u001b[39m {}\n\u001b[0;32m----> 9\u001b[0m \u001b[38;5;28;01mfor\u001b[39;00m method, status \u001b[38;5;129;01min\u001b[39;00m \u001b[43mmethods\u001b[49m\u001b[38;5;241;43m.\u001b[39;49m\u001b[43mitems\u001b[49m():\n\u001b[1;32m     10\u001b[0m     \u001b[38;5;28;01mif\u001b[39;00m method \u001b[38;5;129;01mnot\u001b[39;00m \u001b[38;5;129;01min\u001b[39;00m plot_data[interaction]:\n\u001b[1;32m     11\u001b[0m         plot_data[interaction][method] \u001b[38;5;241m=\u001b[39m status\n",
      "\u001b[0;31mAttributeError\u001b[0m: 'int' object has no attribute 'items'"
     ]
    }
   ],
   "source": [
    "# Create a dictionary to hold the data for plotting\n",
    "plot_data = {}\n",
    "\n",
    "# Extract data for plotting\n",
    "for parsed_log in df['parsed_status']:\n",
    "    for interaction, methods in parsed_log.items():\n",
    "        if interaction not in plot_data:\n",
    "            plot_data[interaction] = {}\n",
    "        for method, status in methods.items():\n",
    "            if method not in plot_data[interaction]:\n",
    "                plot_data[interaction][method] = status\n",
    "\n",
    "# Create a DataFrame from the plot data\n",
    "plot_df = pd.DataFrame.from_dict(plot_data, orient='index')\n",
    "\n",
    "# Convert 'OK'/'ERROR' to numerical values (OK = 1, ERROR = 0)\n",
    "plot_df = plot_df.applymap(lambda x: 1 if x == 'OK' else 0)\n",
    "\n",
    "# Sort the DataFrame by interaction numbers\n",
    "plot_df = plot_df.sort_index()\n",
    "\n",
    "# Plot a heatmap\n",
    "plt.figure(figsize=(14, 10))\n",
    "sns.heatmap(plot_df.T, cmap='coolwarm', cbar_kws={'ticks': [0, 1]}, annot=True, fmt='d')\n",
    "plt.xlabel('Interaction Number')\n",
    "plt.ylabel('Function')\n",
    "plt.title('Evolution of Function Status Over Interactions')\n",
    "plt.xticks(rotation=45)\n",
    "plt.yticks(rotation=0)\n",
    "plt.show()"
   ]
  },
  {
   "cell_type": "code",
   "execution_count": null,
   "metadata": {},
   "outputs": [],
   "source": [
    "# Plot the distribution of time taken\n",
    "plt.figure(figsize=(10, 5))\n",
    "df['time_taken'].hist(bins=10)\n",
    "plt.title('Distribution of Time Taken')\n",
    "plt.xlabel('Time Taken (seconds)')\n",
    "plt.ylabel('Frequency')\n",
    "plt.show()"
   ]
  },
  {
   "cell_type": "code",
   "execution_count": null,
   "metadata": {},
   "outputs": [],
   "source": [
    "# Plot the distribution of iterations\n",
    "plt.figure(figsize=(10, 5))\n",
    "df['iterations'].hist(bins=10)\n",
    "plt.title('Distribution of Iterations')\n",
    "plt.xlabel('Iterations')\n",
    "plt.ylabel('Frequency')\n",
    "plt.show()"
   ]
  },
  {
   "cell_type": "code",
   "execution_count": null,
   "metadata": {},
   "outputs": [],
   "source": [
    "# Plot the average time taken for verified vs. not verified runs\n",
    "avg_time_taken = df.groupby('verified')['time_taken'].mean()\n",
    "print(avg_time_taken)"
   ]
  },
  {
   "cell_type": "code",
   "execution_count": null,
   "metadata": {},
   "outputs": [],
   "source": [
    "# Plot the average iterations for verified vs. not verified runs\n",
    "avg_iterations = df.groupby('verified')['iterations'].mean()\n",
    "print(avg_iterations)"
   ]
  }
 ],
 "metadata": {
  "kernelspec": {
   "display_name": "venv",
   "language": "python",
   "name": "python3"
  },
  "language_info": {
   "codemirror_mode": {
    "name": "ipython",
    "version": 3
   },
   "file_extension": ".py",
   "mimetype": "text/x-python",
   "name": "python",
   "nbconvert_exporter": "python",
   "pygments_lexer": "ipython3",
   "version": "3.9.5"
  }
 },
 "nbformat": 4,
 "nbformat_minor": 2
}
