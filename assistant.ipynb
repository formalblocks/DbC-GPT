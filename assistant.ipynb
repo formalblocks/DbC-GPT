{
 "cells": [
  {
   "cell_type": "code",
   "execution_count": 2,
   "metadata": {},
   "outputs": [],
   "source": [
    "import openai, time, logging, os\n",
    "from dotenv import load_dotenv\n",
    "\n",
    "# Load environment variables from .env file\n",
    "load_dotenv()\n",
    "\n",
    "# Retrieve API key from environment variable\n",
    "api_key = os.getenv(\"OPENAI_API_KEY\")\n",
    "\n",
    "# Set the API key for the openai module\n",
    "openai.api_key = api_key"
   ]
  },
  {
   "cell_type": "code",
   "execution_count": null,
   "metadata": {},
   "outputs": [],
   "source": [
    "model='gpt-4-turbo'\n",
    "\n",
    "# Hardcoded assistant and thread IDs\n",
    "assistant_id = 'asst_YAk6fYV9PvRR5PFnL4sn6quD'\n",
    "thread_id = 'thread_ALbVkq1aTsobawtiG3NC1SvA'"
   ]
  },
  {
   "cell_type": "code",
   "execution_count": 3,
   "metadata": {},
   "outputs": [
    {
     "name": "stdout",
     "output_type": "stream",
     "text": [
      "asst_GQKKwPlYuTjeg2X54lEsH0qY\n"
     ]
    }
   ],
   "source": [
    "\n",
    "model='ft:gpt-3.5-turbo-0125:formal-blocks:annotations-erc20:9UETgf4X'\n",
    "\n",
    "# solidity solc vector store with eip md files\n",
    "vector_store_id = 'vs_33UHiwTxfG0JszUC0lE7W2Dy'\n",
    "\n",
    "# Create an assistant with the code interpreter tool\n",
    "assistant = openai.beta.assistants.create(\n",
    "  name=\"ERC20\",\n",
    "  instructions=\"Given an ERC token solidity code as input, return the exact same contract with the function annotations in the format accepted by the solc-verify smart contract verifier, just this, nothing more.\",\n",
    "  tools=[{\"type\": \"file_search\"}],\n",
    "  model=model,\n",
    "  tool_resources={\n",
    "    \"file_search\": {\n",
    "      \"vector_store_ids\": [vector_store_id]\n",
    "    }\n",
    "  }\n",
    ")\n",
    "\n",
    "print(assistant.id)"
   ]
  },
  {
   "cell_type": "code",
   "execution_count": null,
   "metadata": {},
   "outputs": [],
   "source": [
    "\n",
    "# Create a thread\n",
    "thread = openai.beta.threads.create(\n",
    "    messages=[\n",
    "        {\n",
    "            \"role\": \"user\",\n",
    "            \"content\": \"You will help to generate formal specifications for smart contracts on the Ethereum network, written in Solidity and which will be verified in the solc-verify verifier, using exactly the solc-verify annotatation language syntax.\"\n",
    "        }\n",
    "    ]\n",
    ")\n",
    "\n",
    "print(thread.id)\n"
   ]
  },
  {
   "cell_type": "code",
   "execution_count": null,
   "metadata": {},
   "outputs": [],
   "source": [
    "# Create a Message\n",
    "message = '''\n",
    "    Enter the contract here\n",
    "'''\n",
    "message = openai.beta.threads.messages.create(\n",
    "    thread_id=thread_id,\n",
    "    role=\"user\",\n",
    "    content=message\n",
    ")"
   ]
  },
  {
   "cell_type": "code",
   "execution_count": null,
   "metadata": {},
   "outputs": [],
   "source": [
    "# Run the assistant\n",
    "run = openai.beta.threads.runs.create(\n",
    "    thread_id=thread_id,\n",
    "    assistant_id=assistant_id,\n",
    "    instructions=\"Given a ERC20 token solidity code as input, return the exact same contract with the functions annotations in the format accepted by the solc-verify smart contract verifier, just this, nothing more.\",\n",
    ")\n",
    "\n",
    "def wait_for_run_completion(client, thread_id, run_id, sleep_interval=5):\n",
    "    \"\"\"\n",
    "\n",
    "    Wait for the run to complete, print the elapsed time, and save the response to a file.\n",
    "    :param client: The OpenAI client.\n",
    "    :param thread_id: The ID of the thread.\n",
    "    :param run_id: The ID of the run.\n",
    "    :param sleep_interval: Time in seconds to wait between checks.\n",
    "    \"\"\"\n",
    "    while True:\n",
    "        try:\n",
    "            run = client.beta.threads.runs.retrieve(thread_id=thread_id, run_id=run_id)\n",
    "            if run.completed_at:\n",
    "                elapsed_time = run.completed_at - run.created_at\n",
    "                formatted_elapsed_time = time.strftime(\n",
    "                    \"%H:%M:%S\", time.gmtime(elapsed_time)\n",
    "                )\n",
    "                print(f\"Run completed in {formatted_elapsed_time}\")\n",
    "                logging.info(f\"Run completed in {formatted_elapsed_time}\")\n",
    "                # Get messages here once Run is completed!\n",
    "                messages = client.beta.threads.messages.list(thread_id=thread_id)\n",
    "                last_message = messages.data[0]\n",
    "                response = last_message.content[0].text.value\n",
    "                # print(f\"Assistant Response: {response}\")\n",
    "                # save the response to a incrementing file with the user message at the top\n",
    "                with open(f\"response_{run_id}.txt\", \"w\") as f:\n",
    "                    f.write(f\"User Message: {last_message.content[0].text.value}\\n\\n\")\n",
    "                    f.write(f\"Assistant Response: {response}\")\n",
    "                break\n",
    "        except Exception as e:\n",
    "            logging.error(f\"An error occurred while retrieving the run: {e}\")\n",
    "            break\n",
    "        logging.info(\"Waiting for run to complete...\")\n",
    "        time.sleep(sleep_interval)"
   ]
  },
  {
   "cell_type": "code",
   "execution_count": null,
   "metadata": {},
   "outputs": [],
   "source": [
    "wait_for_run_completion(client=openai, thread_id=thread_id, run_id=run.id)\n",
    "\n",
    "#run_steps = client.beta.threads.runs.steps.list(thread_id=thread_id, run_id=run.id)\n",
    "#print(f\"Steps---> {run_steps.data[0]}\")"
   ]
  }
 ],
 "metadata": {
  "kernelspec": {
   "display_name": "venv",
   "language": "python",
   "name": "python3"
  },
  "language_info": {
   "codemirror_mode": {
    "name": "ipython",
    "version": 3
   },
   "file_extension": ".py",
   "mimetype": "text/x-python",
   "name": "python",
   "nbconvert_exporter": "python",
   "pygments_lexer": "ipython3",
   "version": "3.10.12"
  }
 },
 "nbformat": 4,
 "nbformat_minor": 2
}
