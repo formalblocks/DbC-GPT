{
 "cells": [
  {
   "cell_type": "code",
   "execution_count": null,
   "metadata": {},
   "outputs": [],
   "source": [
    "import openai, time, logging, os\n",
    "from dotenv import load_dotenv\n",
    "\n",
    "# Load environment variables from .env file\n",
    "load_dotenv()\n",
    "\n",
    "# Retrieve API key from environment variable\n",
    "api_key = os.getenv(\"OPENAI_API_KEY\")\n",
    "\n",
    "# Set the API key for the openai module\n",
    "openai.api_key = api_key"
   ]
  },
  {
   "cell_type": "code",
   "execution_count": null,
   "metadata": {},
   "outputs": [],
   "source": [
    "model='gpt-4-turbo'\n",
    "\n",
    "# Hardcoded assistant and thread IDs\n",
    "assistant_id = 'asst_qVmBNF4oJSHXt2PIwmcQGKus'\n",
    "thread_id = 'thread_ALbVkq1aTsobawtiG3NC1SvA'"
   ]
  },
  {
   "cell_type": "code",
   "execution_count": null,
   "metadata": {},
   "outputs": [],
   "source": [
    "'''\n",
    "# Create an assistant\n",
    "assistant = openai.beta.assistants.create(\n",
    "  name=\"Solc-verify specifications generator specialist\",\n",
    "  instructions=\"You help generate formal specifications for smart contracts on the Ethereum network, written in Solidity and which will be verified in the solc-verify verifier.\",\n",
    "  tools=[{\"type\": \"file_search\"}],\n",
    "  model=model,\n",
    ")\n",
    "\n",
    "print(assistant.id)\n",
    "'''"
   ]
  },
  {
   "cell_type": "code",
   "execution_count": null,
   "metadata": {},
   "outputs": [],
   "source": [
    "'''\n",
    "# Create a thread\n",
    "thread = openai.beta.threads.create(\n",
    "    messages=[\n",
    "        {\n",
    "            \"role\": \"user\",\n",
    "            \"content\": \"You will help to generate formal specifications for smart contracts on the Ethereum network, written in Solidity and which will be verified in the solc-verify verifier, using exactly the solc-verify annotatation language syntax.\"\n",
    "        }\n",
    "    ]\n",
    ")\n",
    "\n",
    "print(thread.id)\n",
    "'''"
   ]
  },
  {
   "cell_type": "code",
   "execution_count": null,
   "metadata": {},
   "outputs": [],
   "source": [
    "# Create a Message\n",
    "message = ''' \n",
    "Return just the Solidity code for the following ERC20 contract with the following specifications, becareful with the syntax of the solc-verify annotation language and the variables names.\n",
    "\n",
    "// SPDX-License-Identifier: MIT\n",
    "pragma solidity >=0.5.7;\n",
    "\n",
    "/// @notice  invariant  _totalSupply  ==  __verifier_sum_uint(_balances)\n",
    "contract ERC20 {\n",
    "\n",
    "    mapping (address => uint) _balances;\n",
    "    mapping (address => mapping (address => uint)) _allowed;\n",
    "    uint public _totalSupply;\n",
    "\n",
    "    event Transfer(address indexed from, address indexed to, uint value);\n",
    "    event Approval(address indexed owner, address indexed spender, uint value);\n",
    "\n",
    "\n",
    "    /// @notice  postcondition ( ( _balances[msg.sender] ==  __verifier_old_uint (_balances[msg.sender] ) - value  && msg.sender  != to ) ||   ( _balances[msg.sender] ==  __verifier_old_uint ( _balances[msg.sender]) && msg.sender  == to ) &&  success )   || !success\n",
    "    /// @notice  postcondition ( ( _balances[to] ==  __verifier_old_uint ( _balances[to] ) + value  && msg.sender  != to ) ||   ( _balances[to] ==  __verifier_old_uint ( _balances[to] ) && msg.sender  == to )  )   || !success\n",
    "    function transfer(address to, uint value) public returns (bool success);\n",
    "\n",
    "    /// @notice  postcondition ( ( _balances[from] ==  __verifier_old_uint (_balances[from] ) - value  &&  from  != to ) || ( _balances[from] ==  __verifier_old_uint ( _balances[from] ) &&  from == to ) && success ) || !success \n",
    "    /// @notice  postcondition ( ( _balances[to] ==  __verifier_old_uint ( _balances[to] ) + value  &&  from  != to ) || ( _balances[to] ==  __verifier_old_uint ( _balances[to] ) &&  from  == to ) && success ) || !success \n",
    "    /// @notice  postcondition ( _allowed[from ][msg.sender] ==  __verifier_old_uint (_allowed[from ][msg.sender] ) - value && success) || ( _allowed[from ][msg.sender] ==  __verifier_old_uint (_allowed[from ][msg.sender]) && !success) ||  from  == msg.sender\n",
    "    /// @notice  postcondition  _allowed[from ][msg.sender]  <= __verifier_old_uint (_allowed[from ][msg.sender] ) ||  from  == msg.sender\n",
    "    function transferFrom(address from, address to, uint value) public returns (bool success);\n",
    "\n",
    "    /// @notice  postcondition (_allowed[msg.sender ][ spender] ==  value  &&  success) || ( _allowed[msg.sender ][ spender] ==  __verifier_old_uint ( _allowed[msg.sender ][ spender] ) && !success )    \n",
    "    function approve(address spender, uint value) public returns (bool success);\n",
    "\n",
    "    /// @notice postcondition _balances[owner] == balance\n",
    "    function balanceOf(address owner) public view returns (uint balance);\n",
    "\n",
    "      /// @notice postcondition _allowed[owner][spender] == remaining\n",
    "    function allowance(address owner, address spender) public view returns (uint remaining);\n",
    "}\n",
    "'''\n",
    "message = openai.beta.threads.messages.create(\n",
    "    thread_id=thread_id,\n",
    "    role=\"user\",\n",
    "    content=message\n",
    ")"
   ]
  },
  {
   "cell_type": "code",
   "execution_count": null,
   "metadata": {},
   "outputs": [],
   "source": [
    "# Run the assistant\n",
    "run = openai.beta.threads.runs.create(\n",
    "    thread_id=thread_id,\n",
    "    assistant_id=assistant_id,\n",
    "    instructions=\"Given a ERC20 token solidity code as input, return the exact same contract with the functions annotations in the format accepted by the solc-verify smart contract verifier, just this, nothing more.\",\n",
    ")\n",
    "\n",
    "def wait_for_run_completion(client, thread_id, run_id, sleep_interval=5):\n",
    "    \"\"\"\n",
    "\n",
    "    Wait for the run to complete, print the elapsed time, and save the response to a file.\n",
    "    :param client: The OpenAI client.\n",
    "    :param thread_id: The ID of the thread.\n",
    "    :param run_id: The ID of the run.\n",
    "    :param sleep_interval: Time in seconds to wait between checks.\n",
    "    \"\"\"\n",
    "    while True:\n",
    "        try:\n",
    "            run = client.beta.threads.runs.retrieve(thread_id=thread_id, run_id=run_id)\n",
    "            if run.completed_at:\n",
    "                elapsed_time = run.completed_at - run.created_at\n",
    "                formatted_elapsed_time = time.strftime(\n",
    "                    \"%H:%M:%S\", time.gmtime(elapsed_time)\n",
    "                )\n",
    "                print(f\"Run completed in {formatted_elapsed_time}\")\n",
    "                logging.info(f\"Run completed in {formatted_elapsed_time}\")\n",
    "                # Get messages here once Run is completed!\n",
    "                messages = client.beta.threads.messages.list(thread_id=thread_id)\n",
    "                last_message = messages.data[0]\n",
    "                response = last_message.content[0].text.value\n",
    "                # print(f\"Assistant Response: {response}\")\n",
    "                # save the response to a incrementing file with the user message at the top\n",
    "                with open(f\"response_{run_id}.txt\", \"w\") as f:\n",
    "                    f.write(f\"User Message: {last_message.content[0].text.value}\\n\\n\")\n",
    "                    f.write(f\"Assistant Response: {response}\")\n",
    "                break\n",
    "        except Exception as e:\n",
    "            logging.error(f\"An error occurred while retrieving the run: {e}\")\n",
    "            break\n",
    "        logging.info(\"Waiting for run to complete...\")\n",
    "        time.sleep(sleep_interval)"
   ]
  },
  {
   "cell_type": "code",
   "execution_count": null,
   "metadata": {},
   "outputs": [],
   "source": [
    "wait_for_run_completion(client=openai, thread_id=thread_id, run_id=run.id)\n",
    "\n",
    "#run_steps = client.beta.threads.runs.steps.list(thread_id=thread_id, run_id=run.id)\n",
    "#print(f\"Steps---> {run_steps.data[0]}\")"
   ]
  }
 ],
 "metadata": {
  "kernelspec": {
   "display_name": "venv",
   "language": "python",
   "name": "python3"
  },
  "language_info": {
   "codemirror_mode": {
    "name": "ipython",
    "version": 3
   },
   "file_extension": ".py",
   "mimetype": "text/x-python",
   "name": "python",
   "nbconvert_exporter": "python",
   "pygments_lexer": "ipython3",
   "version": "3.10.12"
  }
 },
 "nbformat": 4,
 "nbformat_minor": 2
}
