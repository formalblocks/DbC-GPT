{
 "cells": [
  {
   "cell_type": "code",
   "execution_count": null,
   "metadata": {},
   "outputs": [],
   "source": [
    "import pandas as pd\n",
    "import matplotlib.pyplot as plt\n",
    "import seaborn as sns\n",
    "\n",
    "# Load the CSV data into a DataFrame\n",
    "df = pd.read_csv('erc20_[20].csv')"
   ]
  },
  {
   "cell_type": "code",
   "execution_count": null,
   "metadata": {},
   "outputs": [],
   "source": [
    "# Summary statistics\n",
    "print(\"\\nSummary Statistics:\")\n",
    "print(df.describe())"
   ]
  },
  {
   "cell_type": "code",
   "execution_count": null,
   "metadata": {},
   "outputs": [],
   "source": [
    "# Count of verified vs. not verified\n",
    "print(\"\\nCount of Verified vs. Not Verified:\")\n",
    "print(df['verified'].value_counts())"
   ]
  },
  {
   "cell_type": "code",
   "execution_count": null,
   "metadata": {},
   "outputs": [],
   "source": [
    "# Average time taken for verified and not verified runs\n",
    "print(\"\\nAverage Time Taken for Verified and Not Verified Runs (minutes:seconds):\")\n",
    "print(df.groupby('verified')['time_taken'].mean())"
   ]
  },
  {
   "cell_type": "code",
   "execution_count": null,
   "metadata": {},
   "outputs": [],
   "source": [
    "# Number of iterations for verified and not verified runs\n",
    "print(\"\\nAverage Iterations for Verified and Not Verified Runs:\")\n",
    "print(df.groupby('verified')['iterations'].mean().round())"
   ]
  },
  {
   "cell_type": "code",
   "execution_count": null,
   "metadata": {},
   "outputs": [],
   "source": [
    "def parse_status_logs(log):\n",
    "    parsed_logs = {}\n",
    "    if log:\n",
    "        try:\n",
    "            # Manually split the logs and process each entry\n",
    "            log_list = log.strip('[]').split('\", \"')\n",
    "            for entry in log_list:\n",
    "                interaction_logs = entry.split('\\\\n')\n",
    "                interaction_number = None\n",
    "                for interaction_log in interaction_logs:\n",
    "                    if 'Iteraction:' in interaction_log:\n",
    "                        interaction_number = int(interaction_log.split(': ')[1])\n",
    "                        if interaction_number not in parsed_logs:\n",
    "                            parsed_logs[interaction_number] = {}\n",
    "                    if 'OK' in interaction_log or 'ERROR' in interaction_log:\n",
    "                        parts = interaction_log.split(': ')\n",
    "                        method = parts[0].split('::')[1]\n",
    "                        status = parts[1].strip()\n",
    "                        if interaction_number is not None:\n",
    "                            parsed_logs[interaction_number][method] = status\n",
    "        except Exception as e:\n",
    "            print(f\"Error parsing log: {e}\")\n",
    "    return parsed_logs\n",
    "\n",
    "# Apply the parse_status_logs function to each row's status column\n",
    "df['parsed_status'] = df['status'].apply(parse_status_logs)\n",
    "\n",
    "print(\"\\nParsed Status:\")\n",
    "print(df['parsed_status'])\n"
   ]
  },
  {
   "cell_type": "code",
   "execution_count": null,
   "metadata": {},
   "outputs": [],
   "source": [
    "# Create a dictionary to hold the data for plotting\n",
    "plot_data = {}\n",
    "\n",
    "# Extract data for plotting\n",
    "for parsed_log in df['parsed_status']:\n",
    "    for interaction, methods in parsed_log.items():\n",
    "        if interaction not in plot_data:\n",
    "            plot_data[interaction] = {}\n",
    "        for method, status in methods.items():\n",
    "            if method not in plot_data[interaction]:\n",
    "                plot_data[interaction][method] = status\n",
    "\n",
    "# Create a DataFrame from the plot data\n",
    "plot_df = pd.DataFrame.from_dict(plot_data, orient='index')\n",
    "\n",
    "# Convert 'OK'/'ERROR' to numerical values (OK = 1, ERROR = 0)\n",
    "plot_df = plot_df.applymap(lambda x: 1 if x == 'OK' else 0)\n",
    "\n",
    "# Sort the DataFrame by interaction numbers\n",
    "plot_df = plot_df.sort_index()\n",
    "\n",
    "# Plot a heatmap\n",
    "plt.figure(figsize=(14, 10))\n",
    "sns.heatmap(plot_df.T, cmap='coolwarm', cbar_kws={'ticks': [0, 1]}, annot=True, fmt='d')\n",
    "plt.xlabel('Interaction Number')\n",
    "plt.ylabel('Function')\n",
    "plt.title('Evolution of Function Status Over Interactions')\n",
    "plt.xticks(rotation=45)\n",
    "plt.yticks(rotation=0)\n",
    "plt.show()"
   ]
  },
  {
   "cell_type": "code",
   "execution_count": null,
   "metadata": {},
   "outputs": [],
   "source": [
    "# Plot the distribution of time taken\n",
    "plt.figure(figsize=(10, 5))\n",
    "df['time_taken'].hist(bins=10)\n",
    "plt.title('Distribution of Time Taken')\n",
    "plt.xlabel('Time Taken (seconds)')\n",
    "plt.ylabel('Frequency')\n",
    "plt.show()"
   ]
  },
  {
   "cell_type": "code",
   "execution_count": null,
   "metadata": {},
   "outputs": [],
   "source": [
    "# Plot the distribution of iterations\n",
    "plt.figure(figsize=(10, 5))\n",
    "df['iterations'].hist(bins=10)\n",
    "plt.title('Distribution of Iterations')\n",
    "plt.xlabel('Iterations')\n",
    "plt.ylabel('Frequency')\n",
    "plt.show()"
   ]
  },
  {
   "cell_type": "code",
   "execution_count": null,
   "metadata": {},
   "outputs": [],
   "source": [
    "# Plot the average time taken for verified vs. not verified runs\n",
    "avg_time_taken = df.groupby('verified')['time_taken'].mean()\n",
    "print(avg_time_taken)"
   ]
  },
  {
   "cell_type": "code",
   "execution_count": null,
   "metadata": {},
   "outputs": [],
   "source": [
    "# Plot the average iterations for verified vs. not verified runs\n",
    "avg_iterations = df.groupby('verified')['iterations'].mean()\n",
    "print(avg_iterations)"
   ]
  }
 ],
 "metadata": {
  "kernelspec": {
   "display_name": "venv",
   "language": "python",
   "name": "python3"
  },
  "language_info": {
   "codemirror_mode": {
    "name": "ipython",
    "version": 3
   },
   "file_extension": ".py",
   "mimetype": "text/x-python",
   "name": "python",
   "nbconvert_exporter": "python",
   "pygments_lexer": "ipython3",
   "version": "3.8.10"
  }
 },
 "nbformat": 4,
 "nbformat_minor": 2
}
